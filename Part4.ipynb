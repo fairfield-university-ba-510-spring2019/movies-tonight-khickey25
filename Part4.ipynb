{
 "cells": [
  {
   "cell_type": "markdown",
   "metadata": {},
   "source": [
    "# Movies Tonight Part 4: A few SELECT queries \n",
    "__Use `%%sql` magic to write the queries listed below.__"
   ]
  },
  {
   "cell_type": "code",
   "execution_count": 1,
   "metadata": {
    "collapsed": true
   },
   "outputs": [
    {
     "data": {
      "text/plain": [
       "'Connected: @Movies.db'"
      ]
     },
     "execution_count": 1,
     "metadata": {},
     "output_type": "execute_result"
    }
   ],
   "source": [
    "# load %sql magic extension\n",
    "%load_ext sql\n",
    "\n",
    "# initialize a database connection; may have to adjust username and password \n",
    "%sql sqlite:///Movies.db"
   ]
  },
  {
   "cell_type": "markdown",
   "metadata": {},
   "source": [
    "**1. Write a select query that returns the MovieTitle, TheaterName, and Showtime for each movie showing.**  \n",
    "The query should use `JOIN` syntax as described in your textbook. Also, use aliases ( `… AS …` ) to make sure that column names match exactly what is asked for. "
   ]
  },
  {
   "cell_type": "code",
   "execution_count": 2,
   "metadata": {
    "collapsed": true
   },
   "outputs": [
    {
     "name": "stdout",
     "output_type": "stream",
     "text": [
      " * sqlite:///Movies.db\n",
      "Done.\n"
     ]
    },
    {
     "data": {
      "text/html": [
       "<table>\n",
       "    <tr>\n",
       "        <th>type</th>\n",
       "        <th>name</th>\n",
       "        <th>tbl_name</th>\n",
       "        <th>rootpage</th>\n",
       "        <th>sql</th>\n",
       "    </tr>\n",
       "    <tr>\n",
       "        <td>table</td>\n",
       "        <td>MOVIES</td>\n",
       "        <td>MOVIES</td>\n",
       "        <td>2</td>\n",
       "        <td>CREATE TABLE MOVIES (<br>    MID INTEGER PRIMARY KEY, <br>    Mtitle TEXT NOT NULL, <br>    Rating TEXT    <br>)</td>\n",
       "    </tr>\n",
       "    <tr>\n",
       "        <td>table</td>\n",
       "        <td>THEATRE</td>\n",
       "        <td>THEATRE</td>\n",
       "        <td>3</td>\n",
       "        <td>CREATE TABLE THEATRE (<br>    TID INTEGER PRIMARY KEY,<br>    Tname TEXT NOT NULL,<br>    Phone TEXT NULL,<br>    Location TEXT NOT NULL <br>)</td>\n",
       "    </tr>\n",
       "    <tr>\n",
       "        <td>table</td>\n",
       "        <td>ARTIST</td>\n",
       "        <td>ARTIST</td>\n",
       "        <td>4</td>\n",
       "        <td>CREATE TABLE ARTIST (<br>    AID INTEGER PRIMARY KEY,<br>    Name TEXT NOT NULL<br>)</td>\n",
       "    </tr>\n",
       "    <tr>\n",
       "        <td>table</td>\n",
       "        <td>SHOW</td>\n",
       "        <td>SHOW</td>\n",
       "        <td>5</td>\n",
       "        <td>CREATE TABLE SHOW (<br>    SID INTEGER PRIMARY KEY,<br>    MID INTEGER NOT NULL,<br>    TID INTEGER NOT NULL,<br>    STime TEXT NOT NULL,<br>    FOREIGN KEY (MID) REFERENCES MOVIES (MID),<br>    FOREIGN KEY (TID) REFERENCES THEATRE (TID)<br>)</td>\n",
       "    </tr>\n",
       "    <tr>\n",
       "        <td>table</td>\n",
       "        <td>CREDIT</td>\n",
       "        <td>CREDIT</td>\n",
       "        <td>6</td>\n",
       "        <td>CREATE TABLE CREDIT (<br>    CID INTEGER PRIMARY KEY,<br>    CCode TEXT NOT NULL,<br>    AID INTEGER NOT NULL, <br>    MID INTEGER NOT NULL,<br>    FOREIGN KEY (AID) REFERENCES ARTIST (AID),<br>    FOREIGN KEY (MID) REFERENCES MOVIES (MID)<br><br>)</td>\n",
       "    </tr>\n",
       "</table>"
      ],
      "text/plain": [
       "[('table', 'MOVIES', 'MOVIES', 2, 'CREATE TABLE MOVIES (\\n    MID INTEGER PRIMARY KEY, \\n    Mtitle TEXT NOT NULL, \\n    Rating TEXT    \\n)'),\n",
       " ('table', 'THEATRE', 'THEATRE', 3, 'CREATE TABLE THEATRE (\\n    TID INTEGER PRIMARY KEY,\\n    Tname TEXT NOT NULL,\\n    Phone TEXT NULL,\\n    Location TEXT NOT NULL \\n)'),\n",
       " ('table', 'ARTIST', 'ARTIST', 4, 'CREATE TABLE ARTIST (\\n    AID INTEGER PRIMARY KEY,\\n    Name TEXT NOT NULL\\n)'),\n",
       " ('table', 'SHOW', 'SHOW', 5, 'CREATE TABLE SHOW (\\n    SID INTEGER PRIMARY KEY,\\n    MID INTEGER NOT NULL,\\n    TID INTEGER NOT NULL,\\n    STime TEXT NOT NULL,\\n    FOREIGN KEY (MID) REFERENCES MOVIES (MID),\\n    FOREIGN KEY (TID) REFERENCES THEATRE (TID)\\n)'),\n",
       " ('table', 'CREDIT', 'CREDIT', 6, 'CREATE TABLE CREDIT (\\n    CID INTEGER PRIMARY KEY,\\n    CCode TEXT NOT NULL,\\n    AID INTEGER NOT NULL, \\n    MID INTEGER NOT NULL,\\n    FOREIGN KEY (AID) REFERENCES ARTIST (AID),\\n    FOREIGN KEY (MID) REFERENCES MOVIES (MID)\\n\\n)')]"
      ]
     },
     "execution_count": 2,
     "metadata": {},
     "output_type": "execute_result"
    }
   ],
   "source": [
    "%%sql\n",
    "\n",
    "SELECT * \n",
    "FROM sqlite_master\n"
   ]
  },
  {
   "cell_type": "code",
   "execution_count": 3,
   "metadata": {},
   "outputs": [
    {
     "name": "stdout",
     "output_type": "stream",
     "text": [
      " * sqlite:///Movies.db\n",
      "Done.\n"
     ]
    },
    {
     "data": {
      "text/html": [
       "<table>\n",
       "    <tr>\n",
       "        <th>MovieTitle</th>\n",
       "        <th>TheatreName</th>\n",
       "        <th>Showtime</th>\n",
       "    </tr>\n",
       "    <tr>\n",
       "        <td>Associate, The</td>\n",
       "        <td>Akarakian Theatres Moreno 4 Cinemas</td>\n",
       "        <td>4:20 PM</td>\n",
       "    </tr>\n",
       "    <tr>\n",
       "        <td>Associate, The</td>\n",
       "        <td>Akarakian Theatres Moreno 4 Cinemas</td>\n",
       "        <td>7:20 PM</td>\n",
       "    </tr>\n",
       "    <tr>\n",
       "        <td>Associate, The</td>\n",
       "        <td>Akarakian Theatres Moreno 4 Cinemas</td>\n",
       "        <td>9:40 PM</td>\n",
       "    </tr>\n",
       "    <tr>\n",
       "        <td>Ghost &amp; The Darkness, The</td>\n",
       "        <td>Akarakian Theatres Moreno 4 Cinemas</td>\n",
       "        <td>5:10 PM</td>\n",
       "    </tr>\n",
       "    <tr>\n",
       "        <td>Ghost &amp; The Darkness, The</td>\n",
       "        <td>Akarakian Theatres Moreno 4 Cinemas</td>\n",
       "        <td>9:00 PM</td>\n",
       "    </tr>\n",
       "    <tr>\n",
       "        <td>Ghost &amp; The Darkness, The</td>\n",
       "        <td>Akarakian Theatres Moreno 4 Cinemas</td>\n",
       "        <td>9:05 PM</td>\n",
       "    </tr>\n",
       "    <tr>\n",
       "        <td>Independence Day</td>\n",
       "        <td>Akarakian Theatres Moreno 4 Cinemas</td>\n",
       "        <td>7:00 PM</td>\n",
       "    </tr>\n",
       "    <tr>\n",
       "        <td>Associate, The</td>\n",
       "        <td>Cinema Star The Ultraplex 14</td>\n",
       "        <td>4:40 PM</td>\n",
       "    </tr>\n",
       "    <tr>\n",
       "        <td>Associate, The</td>\n",
       "        <td>Cinema Star The Ultraplex 14</td>\n",
       "        <td>7:30 PM</td>\n",
       "    </tr>\n",
       "    <tr>\n",
       "        <td>D3: The Mighty Ducks</td>\n",
       "        <td>Cinema Star The Ultraplex 14</td>\n",
       "        <td>2:30 PM</td>\n",
       "    </tr>\n",
       "    <tr>\n",
       "        <td>Dear God</td>\n",
       "        <td>Cinema Star The Ultraplex 14</td>\n",
       "        <td>5:15 PM</td>\n",
       "    </tr>\n",
       "    <tr>\n",
       "        <td>Dear God</td>\n",
       "        <td>Cinema Star The Ultraplex 14</td>\n",
       "        <td>7:45 PM</td>\n",
       "    </tr>\n",
       "    <tr>\n",
       "        <td>First Wives Club, The</td>\n",
       "        <td>Cinema Star The Ultraplex 14</td>\n",
       "        <td>5:30 PM</td>\n",
       "    </tr>\n",
       "    <tr>\n",
       "        <td>First Wives Club, The</td>\n",
       "        <td>Cinema Star The Ultraplex 14</td>\n",
       "        <td>8:00 PM</td>\n",
       "    </tr>\n",
       "    <tr>\n",
       "        <td>Ghost &amp; The Darkness, The</td>\n",
       "        <td>Cinema Star The Ultraplex 14</td>\n",
       "        <td>5:00 PM</td>\n",
       "    </tr>\n",
       "</table>"
      ],
      "text/plain": [
       "[('Associate, The', 'Akarakian Theatres Moreno 4 Cinemas', '4:20 PM'),\n",
       " ('Associate, The', 'Akarakian Theatres Moreno 4 Cinemas', '7:20 PM'),\n",
       " ('Associate, The', 'Akarakian Theatres Moreno 4 Cinemas', '9:40 PM'),\n",
       " ('Ghost & The Darkness, The', 'Akarakian Theatres Moreno 4 Cinemas', '5:10 PM'),\n",
       " ('Ghost & The Darkness, The', 'Akarakian Theatres Moreno 4 Cinemas', '9:00 PM'),\n",
       " ('Ghost & The Darkness, The', 'Akarakian Theatres Moreno 4 Cinemas', '9:05 PM'),\n",
       " ('Independence Day', 'Akarakian Theatres Moreno 4 Cinemas', '7:00 PM'),\n",
       " ('Associate, The', 'Cinema Star The Ultraplex 14', '4:40 PM'),\n",
       " ('Associate, The', 'Cinema Star The Ultraplex 14', '7:30 PM'),\n",
       " ('D3: The Mighty Ducks', 'Cinema Star The Ultraplex 14', '2:30 PM'),\n",
       " ('Dear God', 'Cinema Star The Ultraplex 14', '5:15 PM'),\n",
       " ('Dear God', 'Cinema Star The Ultraplex 14', '7:45 PM'),\n",
       " ('First Wives Club, The', 'Cinema Star The Ultraplex 14', '5:30 PM'),\n",
       " ('First Wives Club, The', 'Cinema Star The Ultraplex 14', '8:00 PM'),\n",
       " ('Ghost & The Darkness, The', 'Cinema Star The Ultraplex 14', '5:00 PM')]"
      ]
     },
     "execution_count": 3,
     "metadata": {},
     "output_type": "execute_result"
    }
   ],
   "source": [
    "%%sql\n",
    "\n",
    "SELECT Mtitle AS MovieTitle, Tname AS TheatreName, STime AS Showtime\n",
    "FROM SHOW\n",
    "    JOIN MOVIES USING (MID)\n",
    "    JOIN THEATRE USING (TID)\n",
    "    LIMIT 15"
   ]
  },
  {
   "cell_type": "markdown",
   "metadata": {},
   "source": [
    "**2. Write a select query to display the MovieTitle, TheaterName, and Showtime for each show after 7pm.** You can start with a copy of the previous query and then add a `WHERE` clause. "
   ]
  },
  {
   "cell_type": "code",
   "execution_count": 4,
   "metadata": {
    "collapsed": true
   },
   "outputs": [
    {
     "name": "stdout",
     "output_type": "stream",
     "text": [
      " * sqlite:///Movies.db\n",
      "Done.\n"
     ]
    },
    {
     "data": {
      "text/html": [
       "<table>\n",
       "    <tr>\n",
       "        <th>MovieTitle</th>\n",
       "        <th>TheatreName</th>\n",
       "        <th>Showtime</th>\n",
       "    </tr>\n",
       "    <tr>\n",
       "        <td>Associate, The</td>\n",
       "        <td>Akarakian Theatres Moreno 4 Cinemas</td>\n",
       "        <td>7:20 PM</td>\n",
       "    </tr>\n",
       "    <tr>\n",
       "        <td>Associate, The</td>\n",
       "        <td>Akarakian Theatres Moreno 4 Cinemas</td>\n",
       "        <td>9:40 PM</td>\n",
       "    </tr>\n",
       "    <tr>\n",
       "        <td>Ghost &amp; The Darkness, The</td>\n",
       "        <td>Akarakian Theatres Moreno 4 Cinemas</td>\n",
       "        <td>9:00 PM</td>\n",
       "    </tr>\n",
       "    <tr>\n",
       "        <td>Ghost &amp; The Darkness, The</td>\n",
       "        <td>Akarakian Theatres Moreno 4 Cinemas</td>\n",
       "        <td>9:05 PM</td>\n",
       "    </tr>\n",
       "    <tr>\n",
       "        <td>Independence Day</td>\n",
       "        <td>Akarakian Theatres Moreno 4 Cinemas</td>\n",
       "        <td>7:00 PM</td>\n",
       "    </tr>\n",
       "    <tr>\n",
       "        <td>Associate, The</td>\n",
       "        <td>Cinema Star The Ultraplex 14</td>\n",
       "        <td>7:30 PM</td>\n",
       "    </tr>\n",
       "    <tr>\n",
       "        <td>Dear God</td>\n",
       "        <td>Cinema Star The Ultraplex 14</td>\n",
       "        <td>7:45 PM</td>\n",
       "    </tr>\n",
       "    <tr>\n",
       "        <td>First Wives Club, The</td>\n",
       "        <td>Cinema Star The Ultraplex 14</td>\n",
       "        <td>8:00 PM</td>\n",
       "    </tr>\n",
       "    <tr>\n",
       "        <td>Ghost &amp; The Darkness, The</td>\n",
       "        <td>Cinema Star The Ultraplex 14</td>\n",
       "        <td>7:40 PM</td>\n",
       "    </tr>\n",
       "    <tr>\n",
       "        <td>High School High</td>\n",
       "        <td>Cinema Star The Ultraplex 14</td>\n",
       "        <td>8:30 PM</td>\n",
       "    </tr>\n",
       "    <tr>\n",
       "        <td>Larger Than Life</td>\n",
       "        <td>Cinema Star The Ultraplex 14</td>\n",
       "        <td>8:20 PM</td>\n",
       "    </tr>\n",
       "    <tr>\n",
       "        <td>Mirror Has Two Faces, The</td>\n",
       "        <td>Cinema Star The Ultraplex 14</td>\n",
       "        <td>7:45 PM</td>\n",
       "    </tr>\n",
       "    <tr>\n",
       "        <td>Mirror Has Two Faces, The</td>\n",
       "        <td>Cinema Star The Ultraplex 14</td>\n",
       "        <td>8:45 PM</td>\n",
       "    </tr>\n",
       "    <tr>\n",
       "        <td>Ransom</td>\n",
       "        <td>Cinema Star The Ultraplex 14</td>\n",
       "        <td>7:00 PM</td>\n",
       "    </tr>\n",
       "    <tr>\n",
       "        <td>Ransom</td>\n",
       "        <td>Cinema Star The Ultraplex 14</td>\n",
       "        <td>7:30 PM</td>\n",
       "    </tr>\n",
       "</table>"
      ],
      "text/plain": [
       "[('Associate, The', 'Akarakian Theatres Moreno 4 Cinemas', '7:20 PM'),\n",
       " ('Associate, The', 'Akarakian Theatres Moreno 4 Cinemas', '9:40 PM'),\n",
       " ('Ghost & The Darkness, The', 'Akarakian Theatres Moreno 4 Cinemas', '9:00 PM'),\n",
       " ('Ghost & The Darkness, The', 'Akarakian Theatres Moreno 4 Cinemas', '9:05 PM'),\n",
       " ('Independence Day', 'Akarakian Theatres Moreno 4 Cinemas', '7:00 PM'),\n",
       " ('Associate, The', 'Cinema Star The Ultraplex 14', '7:30 PM'),\n",
       " ('Dear God', 'Cinema Star The Ultraplex 14', '7:45 PM'),\n",
       " ('First Wives Club, The', 'Cinema Star The Ultraplex 14', '8:00 PM'),\n",
       " ('Ghost & The Darkness, The', 'Cinema Star The Ultraplex 14', '7:40 PM'),\n",
       " ('High School High', 'Cinema Star The Ultraplex 14', '8:30 PM'),\n",
       " ('Larger Than Life', 'Cinema Star The Ultraplex 14', '8:20 PM'),\n",
       " ('Mirror Has Two Faces, The', 'Cinema Star The Ultraplex 14', '7:45 PM'),\n",
       " ('Mirror Has Two Faces, The', 'Cinema Star The Ultraplex 14', '8:45 PM'),\n",
       " ('Ransom', 'Cinema Star The Ultraplex 14', '7:00 PM'),\n",
       " ('Ransom', 'Cinema Star The Ultraplex 14', '7:30 PM')]"
      ]
     },
     "execution_count": 4,
     "metadata": {},
     "output_type": "execute_result"
    }
   ],
   "source": [
    "%%sql\n",
    "\n",
    "SELECT Mtitle AS MovieTitle, Tname AS TheatreName, STime AS Showtime\n",
    "FROM SHOW\n",
    "    JOIN MOVIES USING (MID)\n",
    "    JOIN THEATRE USING (TID)\n",
    "WHERE ShowTime > 7\n",
    "LIMIT 15;"
   ]
  },
  {
   "cell_type": "markdown",
   "metadata": {},
   "source": [
    "**3. Write a select query to display the cast (actors only) of each movie.** The query should return the Movie Title, Actor Name, MID, and AID. "
   ]
  },
  {
   "cell_type": "code",
   "execution_count": 5,
   "metadata": {
    "collapsed": true
   },
   "outputs": [
    {
     "name": "stdout",
     "output_type": "stream",
     "text": [
      " * sqlite:///Movies.db\n",
      "Done.\n"
     ]
    },
    {
     "data": {
      "text/html": [
       "<table>\n",
       "    <tr>\n",
       "        <th>MovieTitle</th>\n",
       "        <th>Name</th>\n",
       "        <th>MID</th>\n",
       "        <th>AID</th>\n",
       "        <th>CCode</th>\n",
       "    </tr>\n",
       "    <tr>\n",
       "        <td>Associate, The</td>\n",
       "        <td>Austin Pendleton</td>\n",
       "        <td>1</td>\n",
       "        <td>1</td>\n",
       "        <td>A</td>\n",
       "    </tr>\n",
       "    <tr>\n",
       "        <td>Associate, The</td>\n",
       "        <td>Bebe Neuwirth</td>\n",
       "        <td>1</td>\n",
       "        <td>2</td>\n",
       "        <td>A</td>\n",
       "    </tr>\n",
       "    <tr>\n",
       "        <td>Associate, The</td>\n",
       "        <td>Dianne Wiest</td>\n",
       "        <td>1</td>\n",
       "        <td>3</td>\n",
       "        <td>A</td>\n",
       "    </tr>\n",
       "    <tr>\n",
       "        <td>Associate, The</td>\n",
       "        <td>Eli Wallach</td>\n",
       "        <td>1</td>\n",
       "        <td>4</td>\n",
       "        <td>A</td>\n",
       "    </tr>\n",
       "    <tr>\n",
       "        <td>Associate, The</td>\n",
       "        <td>Kenny Kerr</td>\n",
       "        <td>1</td>\n",
       "        <td>5</td>\n",
       "        <td>A</td>\n",
       "    </tr>\n",
       "    <tr>\n",
       "        <td>Associate, The</td>\n",
       "        <td>Lainie Kazan</td>\n",
       "        <td>1</td>\n",
       "        <td>6</td>\n",
       "        <td>A</td>\n",
       "    </tr>\n",
       "    <tr>\n",
       "        <td>Associate, The</td>\n",
       "        <td>Tim Daly</td>\n",
       "        <td>1</td>\n",
       "        <td>7</td>\n",
       "        <td>A</td>\n",
       "    </tr>\n",
       "    <tr>\n",
       "        <td>Associate, The</td>\n",
       "        <td>Whoopi Goldberg</td>\n",
       "        <td>1</td>\n",
       "        <td>8</td>\n",
       "        <td>A</td>\n",
       "    </tr>\n",
       "    <tr>\n",
       "        <td>Ghost &amp; The Darkness, The</td>\n",
       "        <td>Bernard Hill</td>\n",
       "        <td>2</td>\n",
       "        <td>10</td>\n",
       "        <td>A</td>\n",
       "    </tr>\n",
       "    <tr>\n",
       "        <td>Ghost &amp; The Darkness, The</td>\n",
       "        <td>Brian McCardie</td>\n",
       "        <td>2</td>\n",
       "        <td>11</td>\n",
       "        <td>A</td>\n",
       "    </tr>\n",
       "    <tr>\n",
       "        <td>Ghost &amp; The Darkness, The</td>\n",
       "        <td>Emily Mortimer</td>\n",
       "        <td>2</td>\n",
       "        <td>12</td>\n",
       "        <td>A</td>\n",
       "    </tr>\n",
       "    <tr>\n",
       "        <td>Ghost &amp; The Darkness, The</td>\n",
       "        <td>Henry Cele</td>\n",
       "        <td>2</td>\n",
       "        <td>13</td>\n",
       "        <td>A</td>\n",
       "    </tr>\n",
       "    <tr>\n",
       "        <td>Ghost &amp; The Darkness, The</td>\n",
       "        <td>John Kani</td>\n",
       "        <td>2</td>\n",
       "        <td>14</td>\n",
       "        <td>A</td>\n",
       "    </tr>\n",
       "    <tr>\n",
       "        <td>Ghost &amp; The Darkness, The</td>\n",
       "        <td>Michael Douglas</td>\n",
       "        <td>2</td>\n",
       "        <td>15</td>\n",
       "        <td>A</td>\n",
       "    </tr>\n",
       "    <tr>\n",
       "        <td>Ghost &amp; The Darkness, The</td>\n",
       "        <td>Tom Wilkinson</td>\n",
       "        <td>2</td>\n",
       "        <td>16</td>\n",
       "        <td>A</td>\n",
       "    </tr>\n",
       "</table>"
      ],
      "text/plain": [
       "[('Associate, The', 'Austin Pendleton', 1, 1, 'A'),\n",
       " ('Associate, The', 'Bebe Neuwirth', 1, 2, 'A'),\n",
       " ('Associate, The', 'Dianne Wiest', 1, 3, 'A'),\n",
       " ('Associate, The', 'Eli Wallach', 1, 4, 'A'),\n",
       " ('Associate, The', 'Kenny Kerr', 1, 5, 'A'),\n",
       " ('Associate, The', 'Lainie Kazan', 1, 6, 'A'),\n",
       " ('Associate, The', 'Tim Daly', 1, 7, 'A'),\n",
       " ('Associate, The', 'Whoopi Goldberg', 1, 8, 'A'),\n",
       " ('Ghost & The Darkness, The', 'Bernard Hill', 2, 10, 'A'),\n",
       " ('Ghost & The Darkness, The', 'Brian McCardie', 2, 11, 'A'),\n",
       " ('Ghost & The Darkness, The', 'Emily Mortimer', 2, 12, 'A'),\n",
       " ('Ghost & The Darkness, The', 'Henry Cele', 2, 13, 'A'),\n",
       " ('Ghost & The Darkness, The', 'John Kani', 2, 14, 'A'),\n",
       " ('Ghost & The Darkness, The', 'Michael Douglas', 2, 15, 'A'),\n",
       " ('Ghost & The Darkness, The', 'Tom Wilkinson', 2, 16, 'A')]"
      ]
     },
     "execution_count": 5,
     "metadata": {},
     "output_type": "execute_result"
    }
   ],
   "source": [
    "%%sql\n",
    "\n",
    "SELECT Mtitle AS MovieTitle, Name, MID, AID, Ccode\n",
    "FROM CREDIT\n",
    "    JOIN MOVIES USING (MID)\n",
    "    JOIN ARTIST USING (AID)\n",
    "WHERE Ccode = 'A'\n",
    "LIMIT 15;"
   ]
  },
  {
   "cell_type": "markdown",
   "metadata": {},
   "source": [
    "**4. Write a select query to display the number of distinct movies that each actor appears in.** The query should return the ActorName, MovieCount, and AID. You will need to use use a GROUP BY clause and the COUNT() function. "
   ]
  },
  {
   "cell_type": "code",
   "execution_count": 6,
   "metadata": {
    "collapsed": true
   },
   "outputs": [
    {
     "name": "stdout",
     "output_type": "stream",
     "text": [
      " * sqlite:///Movies.db\n",
      "Done.\n"
     ]
    },
    {
     "data": {
      "text/html": [
       "<table>\n",
       "    <tr>\n",
       "        <th>Name</th>\n",
       "        <th>AID</th>\n",
       "        <th>Number_of_movies</th>\n",
       "    </tr>\n",
       "    <tr>\n",
       "        <td>Aidan Quinn</td>\n",
       "        <td>93</td>\n",
       "        <td>1</td>\n",
       "    </tr>\n",
       "    <tr>\n",
       "        <td>Alan Rickman</td>\n",
       "        <td>94</td>\n",
       "        <td>1</td>\n",
       "    </tr>\n",
       "    <tr>\n",
       "        <td>Anna Paquin</td>\n",
       "        <td>111</td>\n",
       "        <td>1</td>\n",
       "    </tr>\n",
       "    <tr>\n",
       "        <td>Anthony Hopkins</td>\n",
       "        <td>132</td>\n",
       "        <td>1</td>\n",
       "    </tr>\n",
       "    <tr>\n",
       "        <td>Arlene Sanford</td>\n",
       "        <td>147</td>\n",
       "        <td>1</td>\n",
       "    </tr>\n",
       "    <tr>\n",
       "        <td>Austin Pendleton</td>\n",
       "        <td>1</td>\n",
       "        <td>1</td>\n",
       "    </tr>\n",
       "    <tr>\n",
       "        <td>Barbra Streisand</td>\n",
       "        <td>60</td>\n",
       "        <td>2</td>\n",
       "    </tr>\n",
       "    <tr>\n",
       "        <td>Barry Levinson</td>\n",
       "        <td>82</td>\n",
       "        <td>1</td>\n",
       "    </tr>\n",
       "    <tr>\n",
       "        <td>Baz Luhrmann</td>\n",
       "        <td>105</td>\n",
       "        <td>1</td>\n",
       "    </tr>\n",
       "    <tr>\n",
       "        <td>Bebe Neuwirth</td>\n",
       "        <td>2</td>\n",
       "        <td>1</td>\n",
       "    </tr>\n",
       "    <tr>\n",
       "        <td>Bernard Hill</td>\n",
       "        <td>10</td>\n",
       "        <td>1</td>\n",
       "    </tr>\n",
       "    <tr>\n",
       "        <td>Bette Midler</td>\n",
       "        <td>44</td>\n",
       "        <td>1</td>\n",
       "    </tr>\n",
       "    <tr>\n",
       "        <td>Bill Murray</td>\n",
       "        <td>53</td>\n",
       "        <td>2</td>\n",
       "    </tr>\n",
       "    <tr>\n",
       "        <td>Bill Pullman</td>\n",
       "        <td>19</td>\n",
       "        <td>1</td>\n",
       "    </tr>\n",
       "    <tr>\n",
       "        <td>Bill Smitrovich</td>\n",
       "        <td>20</td>\n",
       "        <td>1</td>\n",
       "    </tr>\n",
       "</table>"
      ],
      "text/plain": [
       "[('Aidan Quinn', 93, 1),\n",
       " ('Alan Rickman', 94, 1),\n",
       " ('Anna Paquin', 111, 1),\n",
       " ('Anthony Hopkins', 132, 1),\n",
       " ('Arlene Sanford', 147, 1),\n",
       " ('Austin Pendleton', 1, 1),\n",
       " ('Barbra Streisand', 60, 2),\n",
       " ('Barry Levinson', 82, 1),\n",
       " ('Baz Luhrmann', 105, 1),\n",
       " ('Bebe Neuwirth', 2, 1),\n",
       " ('Bernard Hill', 10, 1),\n",
       " ('Bette Midler', 44, 1),\n",
       " ('Bill Murray', 53, 2),\n",
       " ('Bill Pullman', 19, 1),\n",
       " ('Bill Smitrovich', 20, 1)]"
      ]
     },
     "execution_count": 6,
     "metadata": {},
     "output_type": "execute_result"
    }
   ],
   "source": [
    "%%sql\n",
    "\n",
    "SELECT DISTINCT Name, AID, COUNT(MID) AS Number_of_movies\n",
    "FROM CREDIT\n",
    "    JOIN ARTIST USING (AID)\n",
    "GROUP BY Name\n",
    "LIMIT 15;"
   ]
  },
  {
   "cell_type": "markdown",
   "metadata": {},
   "source": [
    "**5. Write a select query to display only the actors that appear in multiple movies.** The query should return the Actor Name, Movie Count, and AID. You can use the previous select query as a starting point. You will need to add a HAVING clause to do the restriction. "
   ]
  },
  {
   "cell_type": "code",
   "execution_count": 7,
   "metadata": {
    "collapsed": true
   },
   "outputs": [
    {
     "name": "stdout",
     "output_type": "stream",
     "text": [
      " * sqlite:///Movies.db\n",
      "Done.\n"
     ]
    },
    {
     "data": {
      "text/html": [
       "<table>\n",
       "    <tr>\n",
       "        <th>Name</th>\n",
       "        <th>AID</th>\n",
       "        <th>Number_of_movies</th>\n",
       "    </tr>\n",
       "    <tr>\n",
       "        <td>Barbra Streisand</td>\n",
       "        <td>60</td>\n",
       "        <td>2</td>\n",
       "    </tr>\n",
       "    <tr>\n",
       "        <td>Bill Murray</td>\n",
       "        <td>53</td>\n",
       "        <td>2</td>\n",
       "    </tr>\n",
       "    <tr>\n",
       "        <td>Campbell Scott</td>\n",
       "        <td>106</td>\n",
       "        <td>2</td>\n",
       "    </tr>\n",
       "    <tr>\n",
       "        <td>Diane Venora</td>\n",
       "        <td>100</td>\n",
       "        <td>2</td>\n",
       "    </tr>\n",
       "    <tr>\n",
       "        <td>Jada Pinkett</td>\n",
       "        <td>117</td>\n",
       "        <td>2</td>\n",
       "    </tr>\n",
       "    <tr>\n",
       "        <td>Minnie Driver</td>\n",
       "        <td>77</td>\n",
       "        <td>2</td>\n",
       "    </tr>\n",
       "    <tr>\n",
       "        <td>Rob Lieberman</td>\n",
       "        <td>35</td>\n",
       "        <td>2</td>\n",
       "    </tr>\n",
       "    <tr>\n",
       "        <td>Stanley Tucci</td>\n",
       "        <td>109</td>\n",
       "        <td>2</td>\n",
       "    </tr>\n",
       "    <tr>\n",
       "        <td>Vivica Fox</td>\n",
       "        <td>28</td>\n",
       "        <td>2</td>\n",
       "    </tr>\n",
       "</table>"
      ],
      "text/plain": [
       "[('Barbra Streisand', 60, 2),\n",
       " ('Bill Murray', 53, 2),\n",
       " ('Campbell Scott', 106, 2),\n",
       " ('Diane Venora', 100, 2),\n",
       " ('Jada Pinkett', 117, 2),\n",
       " ('Minnie Driver', 77, 2),\n",
       " ('Rob Lieberman', 35, 2),\n",
       " ('Stanley Tucci', 109, 2),\n",
       " ('Vivica Fox', 28, 2)]"
      ]
     },
     "execution_count": 7,
     "metadata": {},
     "output_type": "execute_result"
    }
   ],
   "source": [
    "%%sql\n",
    "\n",
    "SELECT DISTINCT Name, AID, COUNT(MID) AS Number_of_movies\n",
    "FROM CREDIT\n",
    "    JOIN ARTIST USING (AID)\n",
    "GROUP BY Name\n",
    "HAVING Number_of_movies >= 2\n",
    "LIMIT 15;"
   ]
  },
  {
   "cell_type": "markdown",
   "metadata": {},
   "source": [
    "**6. Write a select query to display directors that also act in their movies.** The query should return the ArtistName, NumDirectorCredits, NumActorCredits, NumDirectorActorCredits. Each count should be calculated separately using a subquery. Note: NumDirectorActorCredits should be greater than 0."
   ]
  },
  {
   "cell_type": "code",
   "execution_count": 8,
   "metadata": {
    "collapsed": true
   },
   "outputs": [
    {
     "name": "stdout",
     "output_type": "stream",
     "text": [
      " * sqlite:///Movies.db\n",
      "Done.\n"
     ]
    },
    {
     "data": {
      "text/html": [
       "<table>\n",
       "    <tr>\n",
       "        <th>Name</th>\n",
       "        <th>Actor_credits</th>\n",
       "        <th>Director_credits</th>\n",
       "        <th>Act_Dir_credits</th>\n",
       "    </tr>\n",
       "    <tr>\n",
       "        <td>Barbra Streisand</td>\n",
       "        <td>1</td>\n",
       "        <td>1</td>\n",
       "        <td>2</td>\n",
       "    </tr>\n",
       "    <tr>\n",
       "        <td>Campbell Scott</td>\n",
       "        <td>1</td>\n",
       "        <td>1</td>\n",
       "        <td>2</td>\n",
       "    </tr>\n",
       "    <tr>\n",
       "        <td>Rob Lieberman</td>\n",
       "        <td>1</td>\n",
       "        <td>1</td>\n",
       "        <td>2</td>\n",
       "    </tr>\n",
       "    <tr>\n",
       "        <td>Stanley Tucci</td>\n",
       "        <td>1</td>\n",
       "        <td>1</td>\n",
       "        <td>2</td>\n",
       "    </tr>\n",
       "</table>"
      ],
      "text/plain": [
       "[('Barbra Streisand', 1, 1, 2),\n",
       " ('Campbell Scott', 1, 1, 2),\n",
       " ('Rob Lieberman', 1, 1, 2),\n",
       " ('Stanley Tucci', 1, 1, 2)]"
      ]
     },
     "execution_count": 8,
     "metadata": {},
     "output_type": "execute_result"
    }
   ],
   "source": [
    "%%sql\n",
    "\n",
    "SELECT DISTINCT Name, COUNT((SELECT Ccode FROM ARTIST WHERE Ccode = 'A'))AS Actor_credits, COUNT((SELECT Ccode FROM ARTIST WHERE Ccode = 'D')) AS Director_credits, COUNT(Ccode) AS Act_Dir_credits\n",
    "FROM ARTIST\n",
    "    JOIN CREDIT USING (AID)\n",
    "GROUP BY Name\n",
    "HAVING Director_credits == 1\n",
    "AND Actor_credits >0;"
   ]
  },
  {
   "cell_type": "code",
   "execution_count": null,
   "metadata": {},
   "outputs": [],
   "source": []
  }
 ],
 "metadata": {
  "kernelspec": {
   "display_name": "Python 3",
   "language": "python",
   "name": "python3"
  },
  "language_info": {
   "codemirror_mode": {
    "name": "ipython",
    "version": 3
   },
   "file_extension": ".py",
   "mimetype": "text/x-python",
   "name": "python",
   "nbconvert_exporter": "python",
   "pygments_lexer": "ipython3",
   "version": "3.6.5"
  }
 },
 "nbformat": 4,
 "nbformat_minor": 2
}
