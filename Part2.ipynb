{
 "cells": [
  {
   "cell_type": "markdown",
   "metadata": {},
   "source": [
    "# Movies Tonight Part 2: SQL DDL"
   ]
  },
  {
   "cell_type": "code",
   "execution_count": 1,
   "metadata": {},
   "outputs": [],
   "source": [
    "%load_ext sql"
   ]
  },
  {
   "cell_type": "markdown",
   "metadata": {},
   "source": [
    "1. **Create / Reset a SQLite database.** \n",
    "    - Name the database `Movies.db`.\n",
    "    - Add `DROP TABLE IF EXISTS` queries make sure you have a blank database. \n",
    "    - Use SQL comments to ay what each line does\n",
    "    \n",
    "Tables needed: Movie, Theatre, Artist, Credit, Show"
   ]
  },
  {
   "cell_type": "code",
   "execution_count": 2,
   "metadata": {},
   "outputs": [
    {
     "data": {
      "text/plain": [
       "'Connected: @Movies.db'"
      ]
     },
     "execution_count": 2,
     "metadata": {},
     "output_type": "execute_result"
    }
   ],
   "source": [
    "%sql sqlite:///Movies.db\n",
    "\n",
    "    "
   ]
  },
  {
   "cell_type": "code",
   "execution_count": 3,
   "metadata": {},
   "outputs": [
    {
     "name": "stdout",
     "output_type": "stream",
     "text": [
      " * sqlite:///Movies.db\n",
      "Done.\n",
      "Done.\n",
      "Done.\n",
      "Done.\n",
      "Done.\n"
     ]
    },
    {
     "data": {
      "text/plain": [
       "[]"
      ]
     },
     "execution_count": 3,
     "metadata": {},
     "output_type": "execute_result"
    }
   ],
   "source": [
    "%%sql\n",
    "-- drops tables if they exist to ensure that the database is in fact blank --\n",
    "DROP TABLE IF EXISTS MOVIES;\n",
    "DROP TABLE IF EXISTS THEATRE;\n",
    "DROP TABLE IF EXISTS ARTIST;\n",
    "DROP TABLE IF EXISTS CREDIT;\n",
    "DROP TABLE IF EXISTS SHOW;"
   ]
  },
  {
   "cell_type": "markdown",
   "metadata": {},
   "source": [
    "2. **Use SQL Create Table commands to implement the table designs you created in Part 1.** \n",
    "    - Take care with your data types! (You do not need to populate them yet. That’s Part 3.) \n",
    "    - Use a surrogate key for the primary key of each table. The data type descriptor is `INTEGER PRIMARY KEY`.\n",
    "    - If you make a mistake, recreate the database from scratch using your code from step 1 above. "
   ]
  },
  {
   "cell_type": "code",
   "execution_count": 4,
   "metadata": {},
   "outputs": [
    {
     "name": "stdout",
     "output_type": "stream",
     "text": [
      " * sqlite:///Movies.db\n",
      "Done.\n"
     ]
    },
    {
     "data": {
      "text/plain": [
       "[]"
      ]
     },
     "execution_count": 4,
     "metadata": {},
     "output_type": "execute_result"
    }
   ],
   "source": [
    "%%sql\n",
    "CREATE TABLE MOVIES (\n",
    "    MID INTEGER PRIMARY KEY, \n",
    "    Mtitle TEXT NOT NULL, \n",
    "    Rating TEXT    \n",
    ");"
   ]
  },
  {
   "cell_type": "code",
   "execution_count": 7,
   "metadata": {},
   "outputs": [
    {
     "name": "stdout",
     "output_type": "stream",
     "text": [
      " * sqlite:///Movies.db\n",
      "Done.\n"
     ]
    },
    {
     "data": {
      "text/plain": [
       "[]"
      ]
     },
     "execution_count": 7,
     "metadata": {},
     "output_type": "execute_result"
    }
   ],
   "source": [
    "%%sql\n",
    "CREATE TABLE THEATRE (\n",
    "    TID INTEGER PRIMARY KEY,\n",
    "    Tname TEXT NOT NULL,\n",
    "    Phone TEXT NULL,\n",
    "    Location TEXT NOT NULL \n",
    ");"
   ]
  },
  {
   "cell_type": "code",
   "execution_count": 8,
   "metadata": {},
   "outputs": [
    {
     "name": "stdout",
     "output_type": "stream",
     "text": [
      " * sqlite:///Movies.db\n",
      "Done.\n"
     ]
    },
    {
     "data": {
      "text/plain": [
       "[]"
      ]
     },
     "execution_count": 8,
     "metadata": {},
     "output_type": "execute_result"
    }
   ],
   "source": [
    "%%sql\n",
    "CREATE TABLE ARTIST (\n",
    "    AID INTEGER PRIMARY KEY,\n",
    "    Name TEXT NOT NULL\n",
    ");"
   ]
  },
  {
   "cell_type": "code",
   "execution_count": 10,
   "metadata": {},
   "outputs": [
    {
     "name": "stdout",
     "output_type": "stream",
     "text": [
      " * sqlite:///Movies.db\n",
      "Done.\n"
     ]
    },
    {
     "data": {
      "text/plain": [
       "[]"
      ]
     },
     "execution_count": 10,
     "metadata": {},
     "output_type": "execute_result"
    }
   ],
   "source": [
    "%%sql\n",
    "CREATE TABLE SHOW (\n",
    "    SID INTEGER PRIMARY KEY,\n",
    "    MID INTEGER NOT NULL,\n",
    "    TID INTEGER NOT NULL,\n",
    "    STime TEXT NOT NULL,\n",
    "    FOREIGN KEY (MID) REFERENCES MOVIES (MID),\n",
    "    FOREIGN KEY (TID) REFERENCES THEATRE (TID)\n",
    ");"
   ]
  },
  {
   "cell_type": "code",
   "execution_count": 13,
   "metadata": {},
   "outputs": [
    {
     "name": "stdout",
     "output_type": "stream",
     "text": [
      " * sqlite:///Movies.db\n",
      "Done.\n"
     ]
    },
    {
     "data": {
      "text/plain": [
       "[]"
      ]
     },
     "execution_count": 13,
     "metadata": {},
     "output_type": "execute_result"
    }
   ],
   "source": [
    "%%sql\n",
    "CREATE TABLE CREDIT (\n",
    "    CID INTEGER PRIMARY KEY,\n",
    "    CCode TEXT NOT NULL,\n",
    "    AID INTEGER NOT NULL, \n",
    "    MID INTEGER NOT NULL,\n",
    "    FOREIGN KEY (AID) REFERENCES ARTIST (AID),\n",
    "    FOREIGN KEY (MID) REFERENCES MOVIES (MID)\n",
    "\n",
    ");"
   ]
  },
  {
   "cell_type": "markdown",
   "metadata": {},
   "source": [
    "3. **Use SQL ALTER TABLE statements to add the foreign key constraints from your ERD.**  \n",
    "Take care that each constraint has to have a unique name."
   ]
  },
  {
   "cell_type": "code",
   "execution_count": null,
   "metadata": {},
   "outputs": [],
   "source": [
    "YOUR CODE HERE"
   ]
  },
  {
   "cell_type": "markdown",
   "metadata": {},
   "source": [
    "4. **Save, add, commit, and push your work to GitHub.**  \n",
    "Use the commit summary comment \"Completed Part 2\"."
   ]
  },
  {
   "cell_type": "code",
   "execution_count": 14,
   "metadata": {},
   "outputs": [
    {
     "name": "stdout",
     "output_type": "stream",
     "text": [
      " * sqlite:///Movies.db\n",
      "Done.\n"
     ]
    },
    {
     "data": {
      "text/html": [
       "<table>\n",
       "    <tr>\n",
       "        <th>type</th>\n",
       "        <th>name</th>\n",
       "        <th>tbl_name</th>\n",
       "        <th>rootpage</th>\n",
       "        <th>sql</th>\n",
       "    </tr>\n",
       "    <tr>\n",
       "        <td>table</td>\n",
       "        <td>MOVIES</td>\n",
       "        <td>MOVIES</td>\n",
       "        <td>2</td>\n",
       "        <td>CREATE TABLE MOVIES (<br>    MID INTEGER PRIMARY KEY, <br>    Mtitle TEXT NOT NULL, <br>    Rating TEXT    <br>)</td>\n",
       "    </tr>\n",
       "    <tr>\n",
       "        <td>table</td>\n",
       "        <td>THEATRE</td>\n",
       "        <td>THEATRE</td>\n",
       "        <td>3</td>\n",
       "        <td>CREATE TABLE THEATRE (<br>    TID INTEGER PRIMARY KEY,<br>    Tname TEXT NOT NULL,<br>    Phone TEXT NULL,<br>    Location TEXT NOT NULL <br>)</td>\n",
       "    </tr>\n",
       "    <tr>\n",
       "        <td>table</td>\n",
       "        <td>ARTIST</td>\n",
       "        <td>ARTIST</td>\n",
       "        <td>4</td>\n",
       "        <td>CREATE TABLE ARTIST (<br>    AID INTEGER PRIMARY KEY,<br>    Name TEXT NOT NULL<br>)</td>\n",
       "    </tr>\n",
       "    <tr>\n",
       "        <td>table</td>\n",
       "        <td>SHOW</td>\n",
       "        <td>SHOW</td>\n",
       "        <td>5</td>\n",
       "        <td>CREATE TABLE SHOW (<br>    SID INTEGER PRIMARY KEY,<br>    MID INTEGER NOT NULL,<br>    TID INTEGER NOT NULL,<br>    STime TEXT NOT NULL,<br>    FOREIGN KEY (MID) REFERENCES MOVIES (MID),<br>    FOREIGN KEY (TID) REFERENCES THEATRE (TID)<br>)</td>\n",
       "    </tr>\n",
       "    <tr>\n",
       "        <td>table</td>\n",
       "        <td>CREDIT</td>\n",
       "        <td>CREDIT</td>\n",
       "        <td>6</td>\n",
       "        <td>CREATE TABLE CREDIT (<br>    CID INTEGER PRIMARY KEY,<br>    CCode TEXT NOT NULL,<br>    AID INTEGER NOT NULL, <br>    MID INTEGER NOT NULL,<br>    FOREIGN KEY (AID) REFERENCES ARTIST (AID),<br>    FOREIGN KEY (MID) REFERENCES MOVIES (MID)<br><br>)</td>\n",
       "    </tr>\n",
       "</table>"
      ],
      "text/plain": [
       "[('table', 'MOVIES', 'MOVIES', 2, 'CREATE TABLE MOVIES (\\n    MID INTEGER PRIMARY KEY, \\n    Mtitle TEXT NOT NULL, \\n    Rating TEXT    \\n)'),\n",
       " ('table', 'THEATRE', 'THEATRE', 3, 'CREATE TABLE THEATRE (\\n    TID INTEGER PRIMARY KEY,\\n    Tname TEXT NOT NULL,\\n    Phone TEXT NULL,\\n    Location TEXT NOT NULL \\n)'),\n",
       " ('table', 'ARTIST', 'ARTIST', 4, 'CREATE TABLE ARTIST (\\n    AID INTEGER PRIMARY KEY,\\n    Name TEXT NOT NULL\\n)'),\n",
       " ('table', 'SHOW', 'SHOW', 5, 'CREATE TABLE SHOW (\\n    SID INTEGER PRIMARY KEY,\\n    MID INTEGER NOT NULL,\\n    TID INTEGER NOT NULL,\\n    STime TEXT NOT NULL,\\n    FOREIGN KEY (MID) REFERENCES MOVIES (MID),\\n    FOREIGN KEY (TID) REFERENCES THEATRE (TID)\\n)'),\n",
       " ('table', 'CREDIT', 'CREDIT', 6, 'CREATE TABLE CREDIT (\\n    CID INTEGER PRIMARY KEY,\\n    CCode TEXT NOT NULL,\\n    AID INTEGER NOT NULL, \\n    MID INTEGER NOT NULL,\\n    FOREIGN KEY (AID) REFERENCES ARTIST (AID),\\n    FOREIGN KEY (MID) REFERENCES MOVIES (MID)\\n\\n)')]"
      ]
     },
     "execution_count": 14,
     "metadata": {},
     "output_type": "execute_result"
    }
   ],
   "source": [
    "%%sql\n",
    "SELECT * FROM sqlite_master;"
   ]
  },
  {
   "cell_type": "code",
   "execution_count": null,
   "metadata": {},
   "outputs": [],
   "source": []
  }
 ],
 "metadata": {
  "kernelspec": {
   "display_name": "Python 3",
   "language": "python",
   "name": "python3"
  },
  "language_info": {
   "codemirror_mode": {
    "name": "ipython",
    "version": 3
   },
   "file_extension": ".py",
   "mimetype": "text/x-python",
   "name": "python",
   "nbconvert_exporter": "python",
   "pygments_lexer": "ipython3",
   "version": "3.6.5"
  }
 },
 "nbformat": 4,
 "nbformat_minor": 2
}
